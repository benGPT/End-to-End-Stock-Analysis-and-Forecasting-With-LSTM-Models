{
 "cells": [
  {
   "cell_type": "code",
   "execution_count": 28,
   "metadata": {},
   "outputs": [],
   "source": [
    "import requests\n",
    "\n",
    "url = \"https://api.stockanalysis.com/api/screener/a/f\"\n",
    "Ticker = []\n",
    "Name = []\n",
    "\n",
    "for page in range(1,3) :\n",
    "    querystring = {\"\":[\"\",\"\"],\"m\":\"marketCap\",\"s\":\"desc\",\"c\":\"no,s,n,marketCap,price,change,revenue\",\"cn\":\"500\",\"f\":\"exchangeCode-is-IDX\",\"p\":page,\"i\":\"symbols\"}\n",
    "\n",
    "    payload = \"\"\n",
    "    headers = {\"User-Agent\": \"insomnia/9.3.2\"}\n",
    "\n",
    "    response = requests.request(\"GET\", url, data=payload, headers=headers, params=querystring)\n",
    "\n",
    "    json = response.json()\n",
    "\n",
    "    for i in range(0,len(json['data']['data'])):\n",
    "        Ticker.append(json['data']['data'][i]['s'])\n",
    "        Name.append(json['data']['data'][i]['n'])\n",
    "\n",
    "\n"
   ]
  },
  {
   "cell_type": "code",
   "execution_count": 29,
   "metadata": {},
   "outputs": [],
   "source": [
    "import pandas as pd\n",
    "\n",
    "ticker_data = pd.DataFrame({\"Ticker\" : Ticker , \"Company Name\" : Name}) "
   ]
  },
  {
   "cell_type": "code",
   "execution_count": 36,
   "metadata": {},
   "outputs": [
    {
     "name": "stdout",
     "output_type": "stream",
     "text": [
      "<class 'pandas.core.frame.DataFrame'>\n",
      "RangeIndex: 843 entries, 0 to 842\n",
      "Data columns (total 2 columns):\n",
      " #   Column        Non-Null Count  Dtype \n",
      "---  ------        --------------  ----- \n",
      " 0   Ticker        843 non-null    object\n",
      " 1   Company Name  843 non-null    object\n",
      "dtypes: object(2)\n",
      "memory usage: 13.3+ KB\n"
     ]
    }
   ],
   "source": [
    "ticker_data.info()"
   ]
  },
  {
   "cell_type": "code",
   "execution_count": 31,
   "metadata": {},
   "outputs": [
    {
     "data": {
      "text/html": [
       "<div>\n",
       "<style scoped>\n",
       "    .dataframe tbody tr th:only-of-type {\n",
       "        vertical-align: middle;\n",
       "    }\n",
       "\n",
       "    .dataframe tbody tr th {\n",
       "        vertical-align: top;\n",
       "    }\n",
       "\n",
       "    .dataframe thead th {\n",
       "        text-align: right;\n",
       "    }\n",
       "</style>\n",
       "<table border=\"1\" class=\"dataframe\">\n",
       "  <thead>\n",
       "    <tr style=\"text-align: right;\">\n",
       "      <th></th>\n",
       "      <th>Ticker</th>\n",
       "      <th>Company Name</th>\n",
       "    </tr>\n",
       "  </thead>\n",
       "  <tbody>\n",
       "    <tr>\n",
       "      <th>0</th>\n",
       "      <td>idx/BREN</td>\n",
       "      <td>PT Barito Renewables Energy Tbk</td>\n",
       "    </tr>\n",
       "    <tr>\n",
       "      <th>1</th>\n",
       "      <td>idx/BBCA</td>\n",
       "      <td>PT Bank Central Asia Tbk</td>\n",
       "    </tr>\n",
       "    <tr>\n",
       "      <th>2</th>\n",
       "      <td>idx/TPIA</td>\n",
       "      <td>PT Chandra Asri Pacific Tbk</td>\n",
       "    </tr>\n",
       "    <tr>\n",
       "      <th>3</th>\n",
       "      <td>idx/BBRI</td>\n",
       "      <td>PT Bank Rakyat Indonesia (Persero) Tbk</td>\n",
       "    </tr>\n",
       "    <tr>\n",
       "      <th>4</th>\n",
       "      <td>idx/AMMN</td>\n",
       "      <td>PT Amman Mineral Internasional Tbk</td>\n",
       "    </tr>\n",
       "  </tbody>\n",
       "</table>\n",
       "</div>"
      ],
      "text/plain": [
       "     Ticker                            Company Name\n",
       "0  idx/BREN         PT Barito Renewables Energy Tbk\n",
       "1  idx/BBCA                PT Bank Central Asia Tbk\n",
       "2  idx/TPIA             PT Chandra Asri Pacific Tbk\n",
       "3  idx/BBRI  PT Bank Rakyat Indonesia (Persero) Tbk\n",
       "4  idx/AMMN      PT Amman Mineral Internasional Tbk"
      ]
     },
     "execution_count": 31,
     "metadata": {},
     "output_type": "execute_result"
    }
   ],
   "source": [
    "ticker_data.head()"
   ]
  },
  {
   "cell_type": "code",
   "execution_count": 32,
   "metadata": {},
   "outputs": [],
   "source": [
    "ticker_data['Ticker'] = ticker_data['Ticker'].str.replace(\"idx/\" , \"\")"
   ]
  },
  {
   "cell_type": "code",
   "execution_count": 34,
   "metadata": {},
   "outputs": [
    {
     "data": {
      "text/html": [
       "<div>\n",
       "<style scoped>\n",
       "    .dataframe tbody tr th:only-of-type {\n",
       "        vertical-align: middle;\n",
       "    }\n",
       "\n",
       "    .dataframe tbody tr th {\n",
       "        vertical-align: top;\n",
       "    }\n",
       "\n",
       "    .dataframe thead th {\n",
       "        text-align: right;\n",
       "    }\n",
       "</style>\n",
       "<table border=\"1\" class=\"dataframe\">\n",
       "  <thead>\n",
       "    <tr style=\"text-align: right;\">\n",
       "      <th></th>\n",
       "      <th>Ticker</th>\n",
       "      <th>Company Name</th>\n",
       "    </tr>\n",
       "  </thead>\n",
       "  <tbody>\n",
       "    <tr>\n",
       "      <th>838</th>\n",
       "      <td>SOUL</td>\n",
       "      <td>PT Mitra Tirta Buwana Tbk</td>\n",
       "    </tr>\n",
       "    <tr>\n",
       "      <th>839</th>\n",
       "      <td>TAMA</td>\n",
       "      <td>PT Lancartama Sejati Tbk</td>\n",
       "    </tr>\n",
       "    <tr>\n",
       "      <th>840</th>\n",
       "      <td>HADE</td>\n",
       "      <td>PT Himalaya Energi Perkasa Tbk</td>\n",
       "    </tr>\n",
       "    <tr>\n",
       "      <th>841</th>\n",
       "      <td>FIMP</td>\n",
       "      <td>PT Fimperkasa Utama Tbk</td>\n",
       "    </tr>\n",
       "    <tr>\n",
       "      <th>842</th>\n",
       "      <td>BMBL</td>\n",
       "      <td>PT Lavender Bina Cendikia Tbk</td>\n",
       "    </tr>\n",
       "  </tbody>\n",
       "</table>\n",
       "</div>"
      ],
      "text/plain": [
       "    Ticker                    Company Name\n",
       "838   SOUL       PT Mitra Tirta Buwana Tbk\n",
       "839   TAMA        PT Lancartama Sejati Tbk\n",
       "840   HADE  PT Himalaya Energi Perkasa Tbk\n",
       "841   FIMP         PT Fimperkasa Utama Tbk\n",
       "842   BMBL   PT Lavender Bina Cendikia Tbk"
      ]
     },
     "execution_count": 34,
     "metadata": {},
     "output_type": "execute_result"
    }
   ],
   "source": [
    "ticker_data.tail()"
   ]
  },
  {
   "cell_type": "code",
   "execution_count": 37,
   "metadata": {},
   "outputs": [],
   "source": [
    "ticker_data.to_csv(\"Ticker_list.csv\" ,index=False)"
   ]
  },
  {
   "cell_type": "code",
   "execution_count": 39,
   "metadata": {},
   "outputs": [
    {
     "data": {
      "text/plain": [
       "array(['BREN', 'BBCA', 'TPIA', 'BBRI', 'AMMN', 'BMRI', 'BYAN', 'TLKM',\n",
       "       'DSSA', 'BBNI', 'ASII', 'DNET', 'PANI', 'ICBP', 'AMRT', 'BRIS',\n",
       "       'ADRO', 'BRPT', 'CUAN', 'DCII', 'MSIN', 'UNTR', 'SMMA', 'ISAT',\n",
       "       'HMSP', 'UNVR', 'GEMS', 'KLBF', 'CPIN', 'INDF', 'MYOR', 'GOTO',\n",
       "       'MEGA', 'MBMA', 'BELI', 'MDKA', 'NCKL', 'MTEL', 'ADMR', 'BNGA',\n",
       "       'PGEO', 'INKP', 'TOWR', 'BNLI', 'TBIG', 'MIKA', 'FILM', 'CMRY',\n",
       "       'ARTO', 'INCO', 'SILO', 'BUMI', 'PGAS', 'JSMR', 'TCPI', 'PNBN',\n",
       "       'ANTM', 'NISP', 'GGRM', 'SRTG', 'PTBA', 'SRAJ', 'MEDC', 'EXCL',\n",
       "       'ITMG', 'AVIA', 'AKRA', 'MAPI', 'CASA', 'SMGR', 'BSDE', 'MAPA',\n",
       "       'MKPI', 'BDMN', 'BTPN', 'CTRA', 'BINA', 'PWON', 'EMTK', 'INTP',\n",
       "       'TKIM', 'BRMS', 'BBHI', 'BBTN', 'SIDO', 'MCOL', 'HEAL', 'FAPA',\n",
       "       'ULTJ', 'STTP', 'JPFA', 'CNMA', 'CMNT', 'WIKA', 'IMPC', 'KPIG',\n",
       "       'BNII', 'HRUM', 'BSIM', 'FREN', 'FASW', 'TAPG', 'BBSI', 'BFIN',\n",
       "       'MIDI', 'CLEO', 'ESSA', 'GOOD', 'PTRO', 'MPRO', 'ACES', 'BANK',\n",
       "       'PNLF', 'BSSR', 'MLBI', 'APIC', 'AALI', 'SMSM', 'SMAR', 'BBKP',\n",
       "       'INPP', 'BUKA', 'ABMM', 'TSPC', 'ADMF', 'AUTO', 'RISE', 'POWR',\n",
       "       'LIFE', 'SMRA', 'BJBR', 'SSMS', 'MORA', 'CITA', 'BMAS', 'BTPS',\n",
       "       'STAA', 'PLIN', 'PRAY', 'BBMD', 'DSNG', 'BJTM', 'TMAS', 'JRPT',\n",
       "       'SOHO', 'CMNP', 'MFIN', 'DMAS', 'EDGE', 'SCMA', 'PSAB', 'MTDL',\n",
       "       'DMND', 'INDY', 'BKSL', 'SMCB', 'GGRP', 'TINS', 'ARCI', 'DUTI',\n",
       "       'IBST', 'LSIP', 'ERAA', 'EPMT', 'SDRA', 'AGRO', 'SSIA', 'HILL',\n",
       "       'SGER', 'BNBR', 'SIMP', 'LPKR', 'TLDN', 'PALM', 'LINK', 'GIAA',\n",
       "       'TGKA', 'ROTI', 'ADES', 'ALII', 'VKTR', 'SMDR', 'AGII', 'HEXA',\n",
       "       'MLPT', 'DOID', 'IMAS', 'RAJA', 'DRMA', 'MSTI', 'ASRI', 'ENRG',\n",
       "       'BPII', 'OMED', 'ARNA', 'NOBU', 'MASB', 'BIRD', 'ARGO', 'BISI',\n",
       "       'SAME', 'MPMX', 'NSSS', 'GJTL', 'GMTD', 'VICI', 'TUGU', 'MNCN',\n",
       "       'TOBA', 'MAPB', 'KAEF', 'JSPT', 'MBAP', 'BDKR', 'SAMF', 'CBUT',\n",
       "       'UCID', 'AMAR', 'YULE', 'RDTX', 'TBLA', 'BHIT', 'PNIN', 'BBYB',\n",
       "       'BCAP', 'KIJA', 'SGRO', 'SURE', 'LPPF', 'BMTR', 'BABP', 'FISH',\n",
       "       'MARK', 'AGRS', 'ELSA', 'PBID', 'MTLA', 'CARE', 'BALI', 'MAHA',\n",
       "       'UNIC', 'NIRO', 'RAAM', 'NICL', 'APLN', 'MCOR', 'CASS', 'CPRO',\n",
       "       'PTPP', 'MYOH', 'PSGO', 'ARKO', 'PRDA', 'MMLP', 'MAYA', 'KKGI',\n",
       "       'CSAP', 'PORT', 'SHIP', 'ASSA', 'HERO', 'BRAM', 'BACA', 'BNBA',\n",
       "       'ADHI', 'RMKE', 'KRAS', 'ELPI', 'BUKK', 'BHAT', 'SAPX', 'ABDA',\n",
       "       'KEEN', 'KARW', 'TPMA', 'SFAN', 'JARR', 'SMBR', 'BMHS', 'PGUN',\n",
       "       'NICE', 'MLIA', 'BOLT', 'SMMT', 'MGRO', 'SMDM', 'RALS', 'SKRN',\n",
       "       'ANJT', 'VICO', 'INDR', 'MTMH', 'TOTO', 'PSSI', 'MSJA', 'KEJU',\n",
       "       'JAWA', 'PMJS', 'BKSW', 'ISSP', 'ENAK', 'DILD', 'CYBR', 'TOTL',\n",
       "       'WINS', 'NETV', 'AMFG', 'WIIM', 'LPCK', 'PNBS', 'TRIM', 'HITS',\n",
       "       'IFSH', 'DLTA', 'INDS', 'KMTR', 'DVLA', 'CAMP', 'CTBN', 'HATM',\n",
       "       'BCIC', 'FAST', 'UNIQ', 'JTPE', 'GMFI', 'DEPO', 'IMJS', 'KINO',\n",
       "       'SCCO', 'MAIN', 'IFII', 'MBSS', 'HRTA', 'BWPT', 'SIPD', 'FORU',\n",
       "       'MERK', 'SUNI', 'KBLI', 'BLTZ', 'CFIN', 'AMAG', 'PDPP', 'BULL',\n",
       "       'JKON', 'AMOR', 'TRGU', 'PYFA', 'ACST', 'SPTO', 'GRIA', 'BGTG',\n",
       "       'WOOD', 'LTLS', 'BSBK', 'MKTR', 'BUAH', 'IPTV', 'CENT', 'PNGO',\n",
       "       'IPCM', 'DEWA', 'DNAR', 'INPC', 'TRST', 'MKAP', 'PPRO', 'ERAL',\n",
       "       'CSRA', 'BVIC', 'ASLC', 'MLPL', 'WOMF', 'BEST', 'HOKI', 'CARS',\n",
       "       'IATA', 'IPCC', 'SOCI', 'ARII', 'CEKA', 'SKLT', 'AISA', 'FMII',\n",
       "       'NATO', 'BEKS', 'NFCX', 'OMRE', 'DAYA', 'PANS', 'BBLD', 'IBOS',\n",
       "       'BUVA', 'SHID', 'GDST', 'GWSA', 'MCAS', 'ASGR', 'ADCP', 'WSBP',\n",
       "       'NELY', 'CHIP', 'BEEF', 'PTSN', 'ARTA', 'CMPP', 'ALDO', 'MSKY',\n",
       "       'PJAA', 'HUMI', 'RSGK', 'AWAN', 'BUDI', 'WIRG', 'LPGI', 'UANG',\n",
       "       'WTON', 'HDFA', 'DWGL', 'FPNI', 'LIVE', 'TCID', 'SPMA', 'ITMA',\n",
       "       'VOKS', 'ATIC', 'SONA', 'GHON', 'DMMX', 'OASA', 'DATA', 'NRCA',\n",
       "       'PBSA', 'TEBE', 'RSCH', 'RANC', 'BBSS', 'BPFI', 'UNTD', 'WEGE',\n",
       "       'PPRE', 'BIKE', 'PTPW', 'IPOL', 'EKAD', 'RELI', 'AXIO', 'JIHD',\n",
       "       'APLI', 'ZONE', 'GSMF', 'BEER', 'SMGA', 'IRRA', 'VTNY', 'BBRM',\n",
       "       'WINE', 'TAMU', 'BRNA', 'MTFN', 'GTBO', 'RODA', 'IOTF', 'INRU',\n",
       "       'MPPA', 'BOLA', 'MOLI', 'PZZA', 'TBMS', 'ELTY', 'MFMI', 'DKFT',\n",
       "       'PANR', 'NIKL', 'SURI', 'UFOE', 'GDYR', 'VISI', 'WIFI', 'SMKL',\n",
       "       'MDLN', 'DART', 'KDSI', 'TRIN', 'POLU', 'SULI', 'AREA', 'AHAP',\n",
       "       'TRIS', 'KETR', 'LABA', 'BABY', 'BELL', 'INET', 'APEX', 'HAIS',\n",
       "       'EMDE', 'BINO', 'GZCO', 'SQMI', 'MTWI', 'BESS', 'MREI', 'IKBI',\n",
       "       'BLTA', 'MAXI', 'SKBM', 'STRK', 'GTSI', 'GLVA', 'CRAB', 'DYAN',\n",
       "       'ADMG', 'INDO', 'IKPM', 'GULA', 'VRNA', 'EAST', 'MITI', 'BAYU',\n",
       "       'PMMP', 'IGAR', 'JECC', 'MDKI', 'AYAM', 'URBN', 'AMAN', 'TYRE',\n",
       "       'ASRM', 'DOOH', 'KING', 'CITY', 'TALF', 'PKPK', 'MHKI', 'DGIK',\n",
       "       'PBRX', 'ZINC', 'GEMA', 'CLAY', 'PEVE', 'KIAS', 'AKPI', 'GPRA',\n",
       "       'KLAS', 'ROCK', 'SWID', 'HALO', 'AGAR', 'SCNP', 'RIGS', 'BMSR',\n",
       "       'KMDS', 'ZBRA', 'LEAD', 'GOLD', 'DGNS', 'SOSS', 'PNSE', 'BEBS',\n",
       "       'PEGE', 'NICK', 'KBLM', 'CCSI', 'TRUS', 'HOMI', 'FUTR', 'TOSK',\n",
       "       'HYGN', 'PEHA', 'CLPI', 'KOBX', 'IDPR', 'SOTS', 'SRSN', 'ALMI',\n",
       "       'OKAS', 'BTON', 'ASBI', 'ASLI', 'KONI', 'ATLA', 'MICE', 'BPTR',\n",
       "       'LPLI', 'TRJA', 'LCKM', 'HELI', 'ECII', 'HAJJ', 'MEJA', 'RMKO',\n",
       "       'CBPE', 'MYTX', 'ACRO', 'CRSN', 'KOPI', 'PTMP', 'BKDP', 'MARI',\n",
       "       'MUTU', 'PTSP', 'TRON', 'ASPI', 'SNLK', 'JGLE', 'TIRA', 'ESTA',\n",
       "       'ITIC', 'FUJI', 'STAR', 'IKAI', 'BATR', 'PSKT', 'SATU', 'GTRA',\n",
       "       'SSTM', 'KOCI', 'COAL', 'MPXL', 'LION', 'HRME', 'NASA', 'ELIT',\n",
       "       'CGAS', 'AKSI', 'RCCC', 'VAST', 'DPUM', 'PRIM', 'UNSP', 'FOLK',\n",
       "       'MANG', 'TGUK', 'FWCT', 'SAFE', 'TFAS', 'ALKA', 'ZYRX', 'PDES',\n",
       "       'APII', 'ASDM', 'BAJA', 'BSML', 'MRAT', 'OBMD', 'BOBA', 'VINS',\n",
       "       'BTEK', 'NZIA', 'KOKA', 'YPAS', 'WEHA', 'CINT', 'PTPS', 'PURI',\n",
       "       'CAKK', 'INOV', 'DIVA', 'TRUE', 'PUDP', 'SDPC', 'PAMG', 'SOLA',\n",
       "       'KREN', 'JATI', 'ASJT', 'SMLE', 'ERTX', 'AMIN', 'MINA', 'RONY',\n",
       "       'LPIN', 'KDTN', 'MMIX', 'FIRE', 'KBAG', 'UVCR', 'DEWI', 'LUCY',\n",
       "       'LPPS', 'SEMA', 'BLUE', 'WMUU', 'ABBA', 'FITT', 'RUIS', 'CHEM',\n",
       "       'BIPP', 'SLIS', 'NTBK', 'MGLV', 'RGAS', 'PURA', 'PSDN', 'WAPO',\n",
       "       'KOTA', 'NPGF', 'JMAS', 'POLY', 'MPIX', 'INTD', 'LFLO', 'SAGE',\n",
       "       'INCI', 'PPRI', 'SBMA', 'DPNS', 'MBTO', 'PTIS', 'TARA', 'TOOL',\n",
       "       'AIMS', 'CBRE', 'SMKM', 'ASMI', 'LAJU', 'SICO', 'CASH', 'PADI',\n",
       "       'WOWS', 'KBLV', 'DFAM', 'DSFI', 'IBFN', 'KRYA', 'RELF', 'NASI',\n",
       "       'AKKU', 'BAUT', 'INAI', 'WGSH', 'INTA', 'ZATA', 'UDNG', 'ENZO',\n",
       "       'MGNA', 'IPAC', 'JAYA', 'RAFI', 'COCO', 'ESTI', 'WINR', 'LMPI',\n",
       "       'TAYS', 'BATA', 'PPGL', 'PGLI', 'GRPM', 'BAPI', 'MEDS', 'FOOD',\n",
       "       'INPS', 'LAPD', 'ANDI', 'HOPE', 'OPMS', 'RBMS', 'LRNA', 'GPSO',\n",
       "       'KOIN', 'REAL', 'BCIP', 'NANO', 'BAIK', 'PGJO', 'CNKO', 'TGRA',\n",
       "       'IRSX', 'ASHA', 'KUAS', 'PICO', 'DADA', 'IPPE', 'MPOW', 'JAST',\n",
       "       'CSIS', 'NAYZ', 'MDRN', 'TIRT', 'XCIS', 'PCAR', 'PACK', 'BIMA',\n",
       "       'LAND', 'RUNS', 'LUCK', 'KIOS', 'PADA', 'RICY', 'FLMC', 'TELE',\n",
       "       'TAXI', 'POLA', 'GRPH', 'KKES', 'OILS', 'INCF', 'AYLS', 'MTPS',\n",
       "       'ALTO', 'INDX', 'ICON', 'TRUK', 'KICI', 'LOPI', 'BAPA', 'ARKA',\n",
       "       'ATAP', 'EPAC', 'MIRA', 'LMSH', 'ESIP', 'KJEN', 'CANI', 'AEGS',\n",
       "       'PIPA', 'ISAP', 'CTTH', 'YELO', 'IDEA', 'IKAN', 'PTDU', 'SOFA',\n",
       "       'HBAT', 'HDIT', 'SDMU', 'AMMS', 'DIGI', 'MENN', 'KLIN', 'MSIE',\n",
       "       'MTSM', 'PLAN', 'LMAX', 'NINE', 'WIDI', 'OLIV', 'SOUL', 'TAMA',\n",
       "       'HADE', 'FIMP', 'BMBL'], dtype=object)"
      ]
     },
     "execution_count": 39,
     "metadata": {},
     "output_type": "execute_result"
    }
   ],
   "source": [
    "ticker_data['Ticker'].values"
   ]
  }
 ],
 "metadata": {
  "kernelspec": {
   "display_name": "Python 3",
   "language": "python",
   "name": "python3"
  },
  "language_info": {
   "codemirror_mode": {
    "name": "ipython",
    "version": 3
   },
   "file_extension": ".py",
   "mimetype": "text/x-python",
   "name": "python",
   "nbconvert_exporter": "python",
   "pygments_lexer": "ipython3",
   "version": "3.11.2"
  }
 },
 "nbformat": 4,
 "nbformat_minor": 2
}
